{
 "cells": [
  {
   "cell_type": "code",
   "execution_count": 7,
   "metadata": {},
   "outputs": [
    {
     "name": "stdout",
     "output_type": "stream",
     "text": [
      "+--------+\n",
      "|Latitude|\n",
      "+--------+\n",
      "|   19.94|\n",
      "|   20.22|\n",
      "|   20.45|\n",
      "|   21.13|\n",
      "|   21.47|\n",
      "|   21.74|\n",
      "|   22.15|\n",
      "|   22.84|\n",
      "|   24.36|\n",
      "|   24.36|\n",
      "|   24.77|\n",
      "|   25.38|\n",
      "|   25.56|\n",
      "|   26.09|\n",
      "|   29.25|\n",
      "|   29.75|\n",
      "|   30.55|\n",
      "|   31.18|\n",
      "|   31.54|\n",
      "|   31.96|\n",
      "+--------+\n",
      "only showing top 20 rows\n",
      "\n",
      "+---+--------+---------+---------+---------+---------+----+-----+------+--------+----+----+\n",
      "| ID|Latitude|Longitude|      CD1|      CD2|      CD3| CD4|  WD1|   WD2|     WD3| WD4|  BS|\n",
      "+---+--------+---------+---------+---------+---------+----+-----+------+--------+----+----+\n",
      "|  1|   19.94|   -64.56| 58102.96| 21259.89|  2226.17|null| 4.45| 26.83|    4.23|null|2.50|\n",
      "|  2|   20.22|   -64.38|  6639.79|  4031.30|  1067.11|null| 1.04| 28.69|   40.79|null|2.00|\n",
      "|  3|   20.45|   -64.20| 15246.71| 12147.79|   991.66|null| 2.57| 42.62| 3503.27|null|2.00|\n",
      "|  4|   21.13|   -63.83|  5347.35|  6851.29|  1420.39|null| 1.15| 12.86|    4.26|null|2.00|\n",
      "|  5|   21.47|   -63.59|  4090.58|  5317.76|   409.06|null| 0.48| 29.63|    4.36|null|2.00|\n",
      "|  6|   21.74|   -63.42| 44914.59| 46144.76| 33133.71|null| 6.26| 47.98| 2051.84|null|2.00|\n",
      "|  7|   22.15|   -63.15| 17324.82|  4519.52|   502.17|null| 1.38|  3.52|    1.13|null|2.00|\n",
      "|  8|   22.84|   -62.76| 10467.48| 10329.75|   413.19|null| 1.24| 33.90|   15.84|null|2.00|\n",
      "|  9|   24.36|   -62.81|  7434.53|  9436.14|   190.63|null| 1.14| 28.59|    0.29|null|4.00|\n",
      "| 10|   24.36|   -62.81|     0.00|  1510.37|   704.84|null| 0.00|  8.96|   13.59|null|4.00|\n",
      "| 11|   24.77|   -62.72|   377.59|  1636.23|   377.59|null| 0.11|  5.41|    7.93|null|4.00|\n",
      "| 12|   25.38|   -62.48|  3126.56|  2918.12|   416.87|null| 0.46|  3.99|    0.42|null|3.00|\n",
      "| 13|   25.56|   -62.44|428395.48|132757.97|119370.62|null|15.62|837.83|25752.82|null|2.00|\n",
      "| 14|   26.09|   -61.72|     0.00|  2111.27|   351.88|null| 0.00|  4.52|    8.45|null|4.50|\n",
      "| 15|   29.25|   -62.99|  4682.38| 14983.63|  1560.79|null| 0.61| 86.00|  105.82|null|2.50|\n",
      "| 16|   29.75|   -63.22|  3020.74| 35544.01|  3725.58|null| 0.41|165.27|  613.71|null|2.00|\n",
      "| 17|   30.55|   -63.71| 31985.11|157152.30|  4991.90|null| 8.10|778.18|  599.95|null|2.00|\n",
      "| 18|   31.18|   -64.01|  1173.82| 10137.53|  1814.08|null| 0.45| 47.17|  101.16|null|2.50|\n",
      "| 19|   31.54|   -64.27|  9953.75| 31224.77|  2590.70|null| 1.50|135.67|   67.49|null|2.00|\n",
      "| 20|   31.96|   -64.54|  4082.42| 24984.39|  2776.04|null| 0.65|154.97| 1465.26|null|2.00|\n",
      "+---+--------+---------+---------+---------+---------+----+-----+------+--------+----+----+\n",
      "only showing top 20 rows\n",
      "\n"
     ]
    }
   ],
   "source": [
    "import findspark\n",
    "findspark.init('/home/ubuntu/spark-2.1.1-bin-hadoop2.7')\n",
    "\n",
    "from pyspark.sql import SparkSession\n",
    "\n",
    "spark = SparkSession.builder.appName('OceanWaste').getOrCreate()\n",
    "\n",
    "df = spark.read.csv(\"Dataset722.csv\", header=True)\n",
    "# df.show()\n",
    "\n",
    "\n",
    "df_latitude = df.select(\"Latitude\")\n",
    "df_longitude = df.select(\"Longitude\")\n",
    "\n",
    "df.select(\"Latitude\").show()\n",
    "df.show()"
   ]
  },
  {
   "cell_type": "code",
   "execution_count": 59,
   "metadata": {},
   "outputs": [
    {
     "name": "stdout",
     "output_type": "stream",
     "text": [
      "+-------+-----------------+------------------+-------------------+-----------------+------------------+------------------+------------------+-----------------+------------------+-----------------+------------------+------------------+\n",
      "|summary|               ID|          Latitude|          Longitude|              CD1|               CD2|               CD3|               CD4|              WD1|               WD2|              WD3|               WD4|                BS|\n",
      "+-------+-----------------+------------------+-------------------+-----------------+------------------+------------------+------------------+-----------------+------------------+-----------------+------------------+------------------+\n",
      "|  count|             1571|              1571|               1571|              679|               679|               807|              1089|              441|               441|              569|               887|              1213|\n",
      "|   mean|            786.0|13.408777848504117|-10.209885423297296| 22239.9861119293|31476.142268041272| 4202.086728624532|14.734361799816305|6.601587301587302|201.51253968253988|603.6014059753957|4972.6651296504915|2.6905193734542454|\n",
      "| stddev|453.6529510539968| 31.53417733244451| 107.73673192425765|54571.97951019008|58744.274844515494|10970.615987335295|50.944402754785244|21.66286230819552| 551.6678130858271|2151.131450489896|19475.193584816723| 1.594881709507754|\n",
      "|    min|                1|            -10.75|              -0.06|             0.00|              0.00|              0.00|              0.00|             0.00|              0.00|             0.00|              0.00|              0.00|\n",
      "|    max|              999|              9.93|              99.51|         99772.24|           9995.02|           9973.19|             98.95|             9.47|             99.50|           993.20|             99.10|              8.00|\n",
      "+-------+-----------------+------------------+-------------------+-----------------+------------------+------------------+------------------+-----------------+------------------+-----------------+------------------+------------------+\n",
      "\n",
      "root\n",
      " |-- ID: string (nullable = true)\n",
      " |-- Latitude: string (nullable = true)\n",
      " |-- Longitude: string (nullable = true)\n",
      " |-- CD1: string (nullable = true)\n",
      " |-- CD2: string (nullable = true)\n",
      " |-- CD3: string (nullable = true)\n",
      " |-- CD4: string (nullable = true)\n",
      " |-- WD1: string (nullable = true)\n",
      " |-- WD2: string (nullable = true)\n",
      " |-- WD3: string (nullable = true)\n",
      " |-- WD4: string (nullable = true)\n",
      " |-- BS: string (nullable = true)\n",
      "\n"
     ]
    }
   ],
   "source": [
    "# We can use the describe method get some general statistics on our data too. Remember to show the DataFrame!\n",
    "df.describe().show()\n",
    "\n",
    "\n",
    "# use schema to view the data type\n",
    "df.printSchema()"
   ]
  },
  {
   "cell_type": "code",
   "execution_count": 9,
   "metadata": {},
   "outputs": [
    {
     "name": "stdout",
     "output_type": "stream",
     "text": [
      "root\n",
      " |-- ID: integer (nullable = true)\n",
      " |-- Latitude: double (nullable = true)\n",
      " |-- Longitude: double (nullable = true)\n",
      " |-- CD1: double (nullable = true)\n",
      " |-- CD2: double (nullable = true)\n",
      " |-- CD3: double (nullable = true)\n",
      " |-- CD4: double (nullable = true)\n",
      " |-- WD1: double (nullable = true)\n",
      " |-- WD2: double (nullable = true)\n",
      " |-- WD3: double (nullable = true)\n",
      " |-- WD4: double (nullable = true)\n",
      " |-- BS: double (nullable = true)\n",
      "\n",
      "+---+--------+---------+---------+---------+---------+----+-----+------+--------+----+---+\n",
      "| ID|Latitude|Longitude|      CD1|      CD2|      CD3| CD4|  WD1|   WD2|     WD3| WD4| BS|\n",
      "+---+--------+---------+---------+---------+---------+----+-----+------+--------+----+---+\n",
      "|  1|   19.94|   -64.56| 58102.96| 21259.89|  2226.17|null| 4.45| 26.83|    4.23|null|2.5|\n",
      "|  2|   20.22|   -64.38|  6639.79|   4031.3|  1067.11|null| 1.04| 28.69|   40.79|null|2.0|\n",
      "|  3|   20.45|    -64.2| 15246.71| 12147.79|   991.66|null| 2.57| 42.62| 3503.27|null|2.0|\n",
      "|  4|   21.13|   -63.83|  5347.35|  6851.29|  1420.39|null| 1.15| 12.86|    4.26|null|2.0|\n",
      "|  5|   21.47|   -63.59|  4090.58|  5317.76|   409.06|null| 0.48| 29.63|    4.36|null|2.0|\n",
      "|  6|   21.74|   -63.42| 44914.59| 46144.76| 33133.71|null| 6.26| 47.98| 2051.84|null|2.0|\n",
      "|  7|   22.15|   -63.15| 17324.82|  4519.52|   502.17|null| 1.38|  3.52|    1.13|null|2.0|\n",
      "|  8|   22.84|   -62.76| 10467.48| 10329.75|   413.19|null| 1.24|  33.9|   15.84|null|2.0|\n",
      "|  9|   24.36|   -62.81|  7434.53|  9436.14|   190.63|null| 1.14| 28.59|    0.29|null|4.0|\n",
      "| 10|   24.36|   -62.81|      0.0|  1510.37|   704.84|null|  0.0|  8.96|   13.59|null|4.0|\n",
      "| 11|   24.77|   -62.72|   377.59|  1636.23|   377.59|null| 0.11|  5.41|    7.93|null|4.0|\n",
      "| 12|   25.38|   -62.48|  3126.56|  2918.12|   416.87|null| 0.46|  3.99|    0.42|null|3.0|\n",
      "| 13|   25.56|   -62.44|428395.48|132757.97|119370.62|null|15.62|837.83|25752.82|null|2.0|\n",
      "| 14|   26.09|   -61.72|      0.0|  2111.27|   351.88|null|  0.0|  4.52|    8.45|null|4.5|\n",
      "| 15|   29.25|   -62.99|  4682.38| 14983.63|  1560.79|null| 0.61|  86.0|  105.82|null|2.5|\n",
      "| 16|   29.75|   -63.22|  3020.74| 35544.01|  3725.58|null| 0.41|165.27|  613.71|null|2.0|\n",
      "| 17|   30.55|   -63.71| 31985.11| 157152.3|   4991.9|null|  8.1|778.18|  599.95|null|2.0|\n",
      "| 18|   31.18|   -64.01|  1173.82| 10137.53|  1814.08|null| 0.45| 47.17|  101.16|null|2.5|\n",
      "| 19|   31.54|   -64.27|  9953.75| 31224.77|   2590.7|null|  1.5|135.67|   67.49|null|2.0|\n",
      "| 20|   31.96|   -64.54|  4082.42| 24984.39|  2776.04|null| 0.65|154.97| 1465.26|null|2.0|\n",
      "+---+--------+---------+---------+---------+---------+----+-----+------+--------+----+---+\n",
      "only showing top 20 rows\n",
      "\n"
     ]
    }
   ],
   "source": [
    "from pyspark.sql.types import (StructField, IntegerType, StructType, DoubleType)\n",
    "\n",
    "# Then create a variable with the correct structure.\n",
    "data_schema = [StructField('ID', IntegerType(), True),\n",
    "               StructField('Latitude', DoubleType(), True),\n",
    "               StructField('Longitude', DoubleType(), True),\n",
    "               StructField('CD1', DoubleType(), True),\n",
    "               StructField('CD2', DoubleType(), True),\n",
    "               StructField('CD3', DoubleType(), True),\n",
    "               StructField('CD4', DoubleType(), True),\n",
    "               StructField('WD1', DoubleType(), True),\n",
    "               StructField('WD2', DoubleType(), True),\n",
    "               StructField('WD3', DoubleType(), True),\n",
    "               StructField('WD4', DoubleType(), True),\n",
    "               StructField('BS', DoubleType(), True)]\n",
    "\n",
    "final_struct = StructType(fields=data_schema)\n",
    "# %%\n",
    "# And now we can read in the data using that schema. If we print the schema, we can see that age is now an integer.\n",
    "df = spark.read.csv(\"Dataset722.csv\", schema=final_struct,header=True)\n",
    "df.printSchema()\n",
    "df.show()"
   ]
  },
  {
   "cell_type": "code",
   "execution_count": 67,
   "metadata": {},
   "outputs": [
    {
     "name": "stdout",
     "output_type": "stream",
     "text": [
      "<class 'numpy.float64'>\n"
     ]
    },
    {
     "data": {
      "image/png": "[encoded data removed]",
      "text/plain": [
       "<Figure size 432x288 with 2 Axes>"
      ]
     },
     "metadata": {},
     "output_type": "display_data"
    }
   ],
   "source": [
    "import pandas as pd\n",
    "pd = df.toPandas()\n",
    "pd_latitude = pd[\"Latitude\"].astype('double')\n",
    "pd_longitude = pd[\"Longitude\"].astype('double')\n",
    "print(type(pd_latitude[1]))\n",
    "fig, ax1 = plt.subplots(2)\n",
    "ax1[0].set_title('Latitude')\n",
    "ax1[0].boxplot(pd_latitude)\n",
    "\n",
    "\n",
    "ax1[1].set_title('Longitude')\n",
    "ax1[1].boxplot(pd_longitude)\n",
    "\n",
    "plt.show()"
   ]
  },
  {
   "cell_type": "code",
   "execution_count": 11,
   "metadata": {},
   "outputs": [
    {
     "name": "stdout",
     "output_type": "stream",
     "text": [
      "+---------+\n",
      "|      CD1|\n",
      "+---------+\n",
      "| 58102.96|\n",
      "|  6639.79|\n",
      "| 15246.71|\n",
      "|  5347.35|\n",
      "|  4090.58|\n",
      "| 44914.59|\n",
      "| 17324.82|\n",
      "| 10467.48|\n",
      "|  7434.53|\n",
      "|      0.0|\n",
      "|   377.59|\n",
      "|  3126.56|\n",
      "|428395.48|\n",
      "|      0.0|\n",
      "|  4682.38|\n",
      "|  3020.74|\n",
      "| 31985.11|\n",
      "|  1173.82|\n",
      "|  9953.75|\n",
      "|  4082.42|\n",
      "+---------+\n",
      "only showing top 20 rows\n",
      "\n",
      "+---+--------+---------+---------+---------+---------+---+---+---+\n",
      "| ID|Latitude|Longitude|      CD1|      CD2|      CD3|CD4|WD4| BS|\n",
      "+---+--------+---------+---------+---------+---------+---+---+---+\n",
      "|  1|   19.94|   -64.56| 58102.96| 21259.89|  2226.17|0.0|0.0|2.5|\n",
      "|  2|   20.22|   -64.38|  6639.79|   4031.3|  1067.11|0.0|0.0|2.0|\n",
      "|  3|   20.45|    -64.2| 15246.71| 12147.79|   991.66|0.0|0.0|2.0|\n",
      "|  4|   21.13|   -63.83|  5347.35|  6851.29|  1420.39|0.0|0.0|2.0|\n",
      "|  5|   21.47|   -63.59|  4090.58|  5317.76|   409.06|0.0|0.0|2.0|\n",
      "|  6|   21.74|   -63.42| 44914.59| 46144.76| 33133.71|0.0|0.0|2.0|\n",
      "|  7|   22.15|   -63.15| 17324.82|  4519.52|   502.17|0.0|0.0|2.0|\n",
      "|  8|   22.84|   -62.76| 10467.48| 10329.75|   413.19|0.0|0.0|2.0|\n",
      "|  9|   24.36|   -62.81|  7434.53|  9436.14|   190.63|0.0|0.0|4.0|\n",
      "| 10|   24.36|   -62.81|      0.0|  1510.37|   704.84|0.0|0.0|4.0|\n",
      "| 11|   24.77|   -62.72|   377.59|  1636.23|   377.59|0.0|0.0|4.0|\n",
      "| 12|   25.38|   -62.48|  3126.56|  2918.12|   416.87|0.0|0.0|3.0|\n",
      "| 13|   25.56|   -62.44|428395.48|132757.97|119370.62|0.0|0.0|2.0|\n",
      "| 14|   26.09|   -61.72|      0.0|  2111.27|   351.88|0.0|0.0|4.5|\n",
      "| 15|   29.25|   -62.99|  4682.38| 14983.63|  1560.79|0.0|0.0|2.5|\n",
      "| 16|   29.75|   -63.22|  3020.74| 35544.01|  3725.58|0.0|0.0|2.0|\n",
      "| 17|   30.55|   -63.71| 31985.11| 157152.3|   4991.9|0.0|0.0|2.0|\n",
      "| 18|   31.18|   -64.01|  1173.82| 10137.53|  1814.08|0.0|0.0|2.5|\n",
      "| 19|   31.54|   -64.27|  9953.75| 31224.77|   2590.7|0.0|0.0|2.0|\n",
      "| 20|   31.96|   -64.54|  4082.42| 24984.39|  2776.04|0.0|0.0|2.0|\n",
      "+---+--------+---------+---------+---------+---------+---+---+---+\n",
      "only showing top 20 rows\n",
      "\n"
     ]
    }
   ],
   "source": [
    "df.select('CD1').show()\n",
    "df_final = df.na.fill(0)\n",
    "df_final = df_final.drop(\"WD1\", \"WD2\", \"WD3\")\n",
    "df_final.show()"
   ]
  },
  {
   "cell_type": "code",
   "execution_count": 15,
   "metadata": {},
   "outputs": [
    {
     "name": "stdout",
     "output_type": "stream",
     "text": [
      "<class 'numpy.float64'>\n",
      "+---+--------+---------+---------+---------+---------+---+---+---+---------------+\n",
      "| ID|Latitude|Longitude|      CD1|      CD2|      CD3|CD4|WD4| BS|Pollution Index|\n",
      "+---+--------+---------+---------+---------+---------+---+---+---+---------------+\n",
      "|  1|   19.94|   -64.56| 58102.96| 21259.89|  2226.17|0.0|0.0|2.5|              1|\n",
      "|  2|   20.22|   -64.38|  6639.79|   4031.3|  1067.11|0.0|0.0|2.0|              0|\n",
      "|  3|   20.45|    -64.2| 15246.71| 12147.79|   991.66|0.0|0.0|2.0|              0|\n",
      "|  4|   21.13|   -63.83|  5347.35|  6851.29|  1420.39|0.0|0.0|2.0|              0|\n",
      "|  5|   21.47|   -63.59|  4090.58|  5317.76|   409.06|0.0|0.0|2.0|              0|\n",
      "|  6|   21.74|   -63.42| 44914.59| 46144.76| 33133.71|0.0|0.0|2.0|              0|\n",
      "|  7|   22.15|   -63.15| 17324.82|  4519.52|   502.17|0.0|0.0|2.0|              0|\n",
      "|  8|   22.84|   -62.76| 10467.48| 10329.75|   413.19|0.0|0.0|2.0|              0|\n",
      "|  9|   24.36|   -62.81|  7434.53|  9436.14|   190.63|0.0|0.0|4.0|              0|\n",
      "| 10|   24.36|   -62.81|      0.0|  1510.37|   704.84|0.0|0.0|4.0|              0|\n",
      "| 11|   24.77|   -62.72|   377.59|  1636.23|   377.59|0.0|0.0|4.0|              0|\n",
      "| 12|   25.38|   -62.48|  3126.56|  2918.12|   416.87|0.0|0.0|3.0|              0|\n",
      "| 13|   25.56|   -62.44|428395.48|132757.97|119370.62|0.0|0.0|2.0|              1|\n",
      "| 14|   26.09|   -61.72|      0.0|  2111.27|   351.88|0.0|0.0|4.5|              0|\n",
      "| 15|   29.25|   -62.99|  4682.38| 14983.63|  1560.79|0.0|0.0|2.5|              0|\n",
      "| 16|   29.75|   -63.22|  3020.74| 35544.01|  3725.58|0.0|0.0|2.0|              0|\n",
      "| 17|   30.55|   -63.71| 31985.11| 157152.3|   4991.9|0.0|0.0|2.0|              0|\n",
      "| 18|   31.18|   -64.01|  1173.82| 10137.53|  1814.08|0.0|0.0|2.5|              0|\n",
      "| 19|   31.54|   -64.27|  9953.75| 31224.77|   2590.7|0.0|0.0|2.0|              0|\n",
      "| 20|   31.96|   -64.54|  4082.42| 24984.39|  2776.04|0.0|0.0|2.0|              0|\n",
      "+---+--------+---------+---------+---------+---------+---+---+---+---------------+\n",
      "only showing top 20 rows\n",
      "\n"
     ]
    }
   ],
   "source": [
    "import pandas as pd\n",
    "pd1 = df_final.toPandas()\n",
    "pd1[\"CD1\"] = pd1[\"CD1\"]\n",
    "\n",
    "data_CD1 = pd1['CD1']\n",
    "print(type(data_CD1[2]))\n",
    "new_CD1 = []\n",
    "for i in data_CD1:\n",
    "    if i < 50000:\n",
    "        new_CD1.append(0)\n",
    "    elif i >= 50000 or i < 100000:\n",
    "        new_CD1.append(1)\n",
    "    else:\n",
    "        new_CD1.append(2)\n",
    "\n",
    "#\n",
    "pollution_index = pd.DataFrame(new_CD1)\n",
    "# concatenate a column to a dataset\n",
    "final_dataset = pd.concat([pd1, pollution_index], axis=1)\n",
    "\n",
    "# Rename one column name as the deafault name is 0\n",
    "final_dataset.rename(columns={0: 'Pollution Index'}, inplace=True)\n",
    "\n",
    "df_sp = spark.createDataFrame(final_dataset)\n",
    "\n",
    "df_sp.show()"
   ]
  },
  {
   "cell_type": "code",
   "execution_count": 16,
   "metadata": {},
   "outputs": [
    {
     "name": "stdout",
     "output_type": "stream",
     "text": [
      "+---+--------+---------+---------+---------+---------+---+---+---+---------------+--------+---+\n",
      "| ID|Latitude|Longitude|      CD1|      CD2|      CD3|CD4|WD4| BS|Pollution Index|    Date| ID|\n",
      "+---+--------+---------+---------+---------+---------+---+---+---+---------------+--------+---+\n",
      "|  1|   19.94|   -64.56| 58102.96| 21259.89|  2226.17|0.0|0.0|2.5|              1| 9/01/10|  1|\n",
      "|  2|   20.22|   -64.38|  6639.79|   4031.3|  1067.11|0.0|0.0|2.0|              0| 9/01/10|  2|\n",
      "|  3|   20.45|    -64.2| 15246.71| 12147.79|   991.66|0.0|0.0|2.0|              0| 9/01/10|  3|\n",
      "|  4|   21.13|   -63.83|  5347.35|  6851.29|  1420.39|0.0|0.0|2.0|              0|10/01/10|  4|\n",
      "|  5|   21.47|   -63.59|  4090.58|  5317.76|   409.06|0.0|0.0|2.0|              0|10/01/10|  5|\n",
      "|  6|   21.74|   -63.42| 44914.59| 46144.76| 33133.71|0.0|0.0|2.0|              0|10/01/10|  6|\n",
      "|  7|   22.15|   -63.15| 17324.82|  4519.52|   502.17|0.0|0.0|2.0|              0|11/01/10|  7|\n",
      "|  8|   22.84|   -62.76| 10467.48| 10329.75|   413.19|0.0|0.0|2.0|              0|11/01/10|  8|\n",
      "|  9|   24.36|   -62.81|  7434.53|  9436.14|   190.63|0.0|0.0|4.0|              0|12/01/10|  9|\n",
      "| 10|   24.36|   -62.81|      0.0|  1510.37|   704.84|0.0|0.0|4.0|              0|12/01/10| 10|\n",
      "| 11|   24.77|   -62.72|   377.59|  1636.23|   377.59|0.0|0.0|4.0|              0|13/01/10| 11|\n",
      "| 12|   25.38|   -62.48|  3126.56|  2918.12|   416.87|0.0|0.0|3.0|              0|13/01/10| 12|\n",
      "| 13|   25.56|   -62.44|428395.48|132757.97|119370.62|0.0|0.0|2.0|              1|13/01/10| 13|\n",
      "| 14|   26.09|   -61.72|      0.0|  2111.27|   351.88|0.0|0.0|4.5|              0|14/01/10| 14|\n",
      "| 15|   29.25|   -62.99|  4682.38| 14983.63|  1560.79|0.0|0.0|2.5|              0|15/01/10| 15|\n",
      "| 16|   29.75|   -63.22|  3020.74| 35544.01|  3725.58|0.0|0.0|2.0|              0|15/01/10| 16|\n",
      "| 17|   30.55|   -63.71| 31985.11| 157152.3|   4991.9|0.0|0.0|2.0|              0|16/01/10| 17|\n",
      "| 18|   31.18|   -64.01|  1173.82| 10137.53|  1814.08|0.0|0.0|2.5|              0|17/01/10| 18|\n",
      "| 19|   31.54|   -64.27|  9953.75| 31224.77|   2590.7|0.0|0.0|2.0|              0|17/01/10| 19|\n",
      "| 20|   31.96|   -64.54|  4082.42| 24984.39|  2776.04|0.0|0.0|2.0|              0|18/01/10| 20|\n",
      "+---+--------+---------+---------+---------+---------+---+---+---+---------------+--------+---+\n",
      "only showing top 20 rows\n",
      "\n"
     ]
    }
   ],
   "source": [
    "# Joining the dataframe\n",
    "df_new = spark.read.csv(\"Plastic2.csv\", header=True)\n",
    "inner_join = df_sp.join(df_new, df_sp['ID'] == df_new['ID'])\n",
    "inner_join.show()"
   ]
  },
  {
   "cell_type": "code",
   "execution_count": 17,
   "metadata": {},
   "outputs": [],
   "source": [
    "from pyspark.sql import functions as F\n",
    "df_log = inner_join.withColumn(\"CD1\", F.log(inner_join[\"CD1\"]))"
   ]
  },
  {
   "cell_type": "code",
   "execution_count": 18,
   "metadata": {
    "scrolled": true
   },
   "outputs": [
    {
     "data": {
      "image/png": "[encoded data removed]",
      "text/plain": [
       "<Figure size 576x432 with 1 Axes>"
      ]
     },
     "metadata": {},
     "output_type": "display_data"
    },
    {
     "name": "stdout",
     "output_type": "stream",
     "text": [
      "+---+--------+---------+------------------+---------+---------+---+---+---+---------------+--------+---+--------------+----------+\n",
      "| ID|Latitude|Longitude|               CD1|      CD2|      CD3|CD4|WD4| BS|Pollution Index|    Date| ID|      features|prediction|\n",
      "+---+--------+---------+------------------+---------+---------+---+---+---+---------------+--------+---+--------------+----------+\n",
      "|  1|   19.94|   -64.56|10.969971888185984| 21259.89|  2226.17|0.0|0.0|2.5|              1| 9/01/10|  1|[-64.56,19.94]|         5|\n",
      "|  2|   20.22|   -64.38| 8.800835615464328|   4031.3|  1067.11|0.0|0.0|2.0|              0| 9/01/10|  2|[-64.38,20.22]|         5|\n",
      "|  3|   20.45|    -64.2| 9.632119021055914| 12147.79|   991.66|0.0|0.0|2.0|              0| 9/01/10|  3| [-64.2,20.45]|         5|\n",
      "|  4|   21.13|   -63.83| 8.584356390072255|  6851.29|  1420.39|0.0|0.0|2.0|              0|10/01/10|  4|[-63.83,21.13]|         5|\n",
      "|  5|   21.47|   -63.59| 8.316442048273814|  5317.76|   409.06|0.0|0.0|2.0|              0|10/01/10|  5|[-63.59,21.47]|         5|\n",
      "|  6|   21.74|   -63.42|10.712517965268086| 46144.76| 33133.71|0.0|0.0|2.0|              0|10/01/10|  6|[-63.42,21.74]|         5|\n",
      "|  7|   22.15|   -63.15| 9.759895434393743|  4519.52|   502.17|0.0|0.0|2.0|              0|11/01/10|  7|[-63.15,22.15]|         5|\n",
      "|  8|   22.84|   -62.76| 9.256028587215571| 10329.75|   413.19|0.0|0.0|2.0|              0|11/01/10|  8|[-62.76,22.84]|         5|\n",
      "|  9|   24.36|   -62.81| 8.913890642370243|  9436.14|   190.63|0.0|0.0|4.0|              0|12/01/10|  9|[-62.81,24.36]|         5|\n",
      "| 10|   24.36|   -62.81|              null|  1510.37|   704.84|0.0|0.0|4.0|              0|12/01/10| 10|[-62.81,24.36]|         5|\n",
      "| 11|   24.77|   -62.72| 5.933808950869816|  1636.23|   377.59|0.0|0.0|4.0|              0|13/01/10| 11|[-62.72,24.77]|         5|\n",
      "| 12|   25.38|   -62.48| 8.047688637611634|  2918.12|   416.87|0.0|0.0|3.0|              0|13/01/10| 12|[-62.48,25.38]|         5|\n",
      "| 13|   25.56|   -62.44|12.967802066613048|132757.97|119370.62|0.0|0.0|2.0|              1|13/01/10| 13|[-62.44,25.56]|         5|\n",
      "| 14|   26.09|   -61.72|              null|  2111.27|   351.88|0.0|0.0|4.5|              0|14/01/10| 14|[-61.72,26.09]|         5|\n",
      "| 15|   29.25|   -62.99| 8.451561806654032| 14983.63|  1560.79|0.0|0.0|2.5|              0|15/01/10| 15|[-62.99,29.25]|         5|\n",
      "| 16|   29.75|   -63.22| 8.013257113465787| 35544.01|  3725.58|0.0|0.0|2.0|              0|15/01/10| 16|[-63.22,29.75]|         5|\n",
      "| 17|   30.55|   -63.71|10.373025760990409| 157152.3|   4991.9|0.0|0.0|2.0|              0|16/01/10| 17|[-63.71,30.55]|         5|\n",
      "| 18|   31.18|   -64.01| 7.068018666656876| 10137.53|  1814.08|0.0|0.0|2.5|              0|17/01/10| 18|[-64.01,31.18]|         5|\n",
      "| 19|   31.54|   -64.27| 9.205704643571655| 31224.77|   2590.7|0.0|0.0|2.0|              0|17/01/10| 19|[-64.27,31.54]|         5|\n",
      "| 20|   31.96|   -64.54| 8.314445228816734| 24984.39|  2776.04|0.0|0.0|2.0|              0|18/01/10| 20|[-64.54,31.96]|         5|\n",
      "+---+--------+---------+------------------+---------+---------+---+---+---+---------------+--------+---+--------------+----------+\n",
      "only showing top 20 rows\n",
      "\n"
     ]
    }
   ],
   "source": [
    "from pyspark.ml.feature import VectorAssembler\n",
    "\n",
    "from pyspark.ml.clustering import KMeans\n",
    "import numpy as np\n",
    "import matplotlib.pyplot as plt\n",
    "from matplotlib.ticker import MaxNLocator\n",
    "\n",
    "vecAssembler = VectorAssembler(inputCols=[\"Longitude\", \"Latitude\"], outputCol=\"features\")\n",
    "new_df = vecAssembler.transform(df_log)\n",
    "\n",
    "cost = np.zeros(10)\n",
    "for k in range(2, 10):\n",
    "    kmeans = KMeans().setK(k).setSeed(1).setFeaturesCol('features')\n",
    "    model = kmeans.fit(new_df)\n",
    "    cost[k] = model.computeCost(new_df)\n",
    "\n",
    "fig, ax = plt.subplots(1, 1, figsize=(8, 6))\n",
    "ax.plot(range(2, 10), cost[2:10])\n",
    "ax.set_xlabel('k')\n",
    "ax.set_ylabel('cost')\n",
    "\n",
    "ax.xaxis.set_major_locator(MaxNLocator(integer=True))\n",
    "plt.title(\"Elbow Curve\")\n",
    "plt.show()\n",
    "\n",
    "kmeans = KMeans(k=6, seed=1)  # 6 clusters here\n",
    "model = kmeans.fit(new_df.select('features'))\n",
    "transformed = model.transform(new_df)\n",
    "transformed.show()"
   ]
  }
 ],
 "metadata": {
  "kernelspec": {
   "display_name": "Python 3",
   "language": "python",
   "name": "python3"
  },
  "language_info": {
   "codemirror_mode": {
    "name": "ipython",
    "version": 3
   },
   "file_extension": ".py",
   "mimetype": "text/x-python",
   "name": "python",
   "nbconvert_exporter": "python",
   "pygments_lexer": "ipython3",
   "version": "3.5.2"
  }
 },
 "nbformat": 4,
 "nbformat_minor": 2
}
